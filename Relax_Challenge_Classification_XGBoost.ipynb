{
 "cells": [
  {
   "cell_type": "code",
   "execution_count": 1,
   "metadata": {},
   "outputs": [],
   "source": [
    "import pandas as pd\n",
    "import seaborn as sns\n",
    "import numpy as np\n",
    "import time\n",
    "import re\n",
    "import nltk\n",
    "import math\n",
    "import os\n",
    "import matplotlib.pyplot as plt\n",
    "import sklearn.metrics\n",
    "import json \n",
    "from datetime import datetime\n",
    "\n",
    "from xgboost import XGBClassifier\n",
    "from sklearn.ensemble import VotingClassifier\n",
    "from sklearn.linear_model import PassiveAggressiveClassifier\n",
    "from sklearn.linear_model import RidgeClassifier\n",
    "from sklearn.naive_bayes import MultinomialNB\n",
    "from sklearn import linear_model\n",
    "from sklearn.linear_model import Perceptron\n",
    "\n",
    "from sklearn import svm\n",
    "from sklearn.ensemble import GradientBoostingClassifier\n",
    "from sklearn.tree import DecisionTreeClassifier\n",
    "from sklearn.preprocessing import StandardScaler\n",
    "from sklearn.model_selection import train_test_split\n",
    "from sklearn.linear_model import LogisticRegression\n",
    "from sklearn.neighbors import KNeighborsClassifier\n",
    "from sklearn.ensemble import RandomForestClassifier\n",
    "\n",
    "from sklearn import linear_model\n",
    "from sklearn.naive_bayes import MultinomialNB\n",
    "from sklearn.ensemble import VotingClassifier\n",
    "from sklearn.linear_model import PassiveAggressiveClassifier\n",
    "\n",
    "from nltk.corpus import stopwords\n",
    "from sklearn.feature_extraction.text import TfidfVectorizer\n",
    "from sklearn.feature_extraction.text import CountVectorizer\n",
    "from sklearn.metrics import roc_auc_score\n",
    "\n",
    "import sklearn.metrics\n",
    "from sklearn.metrics import confusion_matrix\n",
    "from sklearn.metrics import classification_report\n",
    "\n",
    "from sklearn.preprocessing import LabelEncoder\n",
    "\n",
    "from sklearn.model_selection import RandomizedSearchCV, GridSearchCV\n",
    "\n",
    "import pickle\n",
    "\n",
    "%matplotlib inline\n"
   ]
  },
  {
   "cell_type": "code",
   "execution_count": 2,
   "metadata": {},
   "outputs": [
    {
     "data": {
      "text/html": [
       "<div>\n",
       "<style scoped>\n",
       "    .dataframe tbody tr th:only-of-type {\n",
       "        vertical-align: middle;\n",
       "    }\n",
       "\n",
       "    .dataframe tbody tr th {\n",
       "        vertical-align: top;\n",
       "    }\n",
       "\n",
       "    .dataframe thead th {\n",
       "        text-align: right;\n",
       "    }\n",
       "</style>\n",
       "<table border=\"1\" class=\"dataframe\">\n",
       "  <thead>\n",
       "    <tr style=\"text-align: right;\">\n",
       "      <th></th>\n",
       "      <th>user_id</th>\n",
       "      <th>creation_time</th>\n",
       "      <th>name</th>\n",
       "      <th>email</th>\n",
       "      <th>creation_source</th>\n",
       "      <th>last_session_creation_time</th>\n",
       "      <th>opted_in_to_mailing_list</th>\n",
       "      <th>enabled_for_marketing_drip</th>\n",
       "      <th>org_id</th>\n",
       "      <th>invited_by_user_id</th>\n",
       "      <th>adopt_status</th>\n",
       "    </tr>\n",
       "  </thead>\n",
       "  <tbody>\n",
       "    <tr>\n",
       "      <th>0</th>\n",
       "      <td>1</td>\n",
       "      <td>2014-04-22 03:53:30</td>\n",
       "      <td>Clausen August</td>\n",
       "      <td>AugustCClausen@yahoo.com</td>\n",
       "      <td>GUEST_INVITE</td>\n",
       "      <td>1.398139e+09</td>\n",
       "      <td>1</td>\n",
       "      <td>0</td>\n",
       "      <td>11</td>\n",
       "      <td>10803.0</td>\n",
       "      <td>0</td>\n",
       "    </tr>\n",
       "    <tr>\n",
       "      <th>1</th>\n",
       "      <td>2</td>\n",
       "      <td>2013-11-15 03:45:04</td>\n",
       "      <td>Poole Matthew</td>\n",
       "      <td>MatthewPoole@gustr.com</td>\n",
       "      <td>ORG_INVITE</td>\n",
       "      <td>1.396238e+09</td>\n",
       "      <td>0</td>\n",
       "      <td>0</td>\n",
       "      <td>1</td>\n",
       "      <td>316.0</td>\n",
       "      <td>1</td>\n",
       "    </tr>\n",
       "    <tr>\n",
       "      <th>2</th>\n",
       "      <td>3</td>\n",
       "      <td>2013-03-19 23:14:52</td>\n",
       "      <td>Bottrill Mitchell</td>\n",
       "      <td>MitchellBottrill@gustr.com</td>\n",
       "      <td>ORG_INVITE</td>\n",
       "      <td>1.363735e+09</td>\n",
       "      <td>0</td>\n",
       "      <td>0</td>\n",
       "      <td>94</td>\n",
       "      <td>1525.0</td>\n",
       "      <td>0</td>\n",
       "    </tr>\n",
       "    <tr>\n",
       "      <th>3</th>\n",
       "      <td>4</td>\n",
       "      <td>2013-05-21 08:09:28</td>\n",
       "      <td>Clausen Nicklas</td>\n",
       "      <td>NicklasSClausen@yahoo.com</td>\n",
       "      <td>GUEST_INVITE</td>\n",
       "      <td>1.369210e+09</td>\n",
       "      <td>0</td>\n",
       "      <td>0</td>\n",
       "      <td>1</td>\n",
       "      <td>5151.0</td>\n",
       "      <td>0</td>\n",
       "    </tr>\n",
       "    <tr>\n",
       "      <th>4</th>\n",
       "      <td>5</td>\n",
       "      <td>2013-01-17 10:14:20</td>\n",
       "      <td>Raw Grace</td>\n",
       "      <td>GraceRaw@yahoo.com</td>\n",
       "      <td>GUEST_INVITE</td>\n",
       "      <td>1.358850e+09</td>\n",
       "      <td>0</td>\n",
       "      <td>0</td>\n",
       "      <td>193</td>\n",
       "      <td>5240.0</td>\n",
       "      <td>0</td>\n",
       "    </tr>\n",
       "  </tbody>\n",
       "</table>\n",
       "</div>"
      ],
      "text/plain": [
       "   user_id        creation_time               name  \\\n",
       "0        1  2014-04-22 03:53:30     Clausen August   \n",
       "1        2  2013-11-15 03:45:04      Poole Matthew   \n",
       "2        3  2013-03-19 23:14:52  Bottrill Mitchell   \n",
       "3        4  2013-05-21 08:09:28    Clausen Nicklas   \n",
       "4        5  2013-01-17 10:14:20          Raw Grace   \n",
       "\n",
       "                        email creation_source  last_session_creation_time  \\\n",
       "0    AugustCClausen@yahoo.com    GUEST_INVITE                1.398139e+09   \n",
       "1      MatthewPoole@gustr.com      ORG_INVITE                1.396238e+09   \n",
       "2  MitchellBottrill@gustr.com      ORG_INVITE                1.363735e+09   \n",
       "3   NicklasSClausen@yahoo.com    GUEST_INVITE                1.369210e+09   \n",
       "4          GraceRaw@yahoo.com    GUEST_INVITE                1.358850e+09   \n",
       "\n",
       "   opted_in_to_mailing_list  enabled_for_marketing_drip  org_id  \\\n",
       "0                         1                           0      11   \n",
       "1                         0                           0       1   \n",
       "2                         0                           0      94   \n",
       "3                         0                           0       1   \n",
       "4                         0                           0     193   \n",
       "\n",
       "   invited_by_user_id  adopt_status  \n",
       "0             10803.0             0  \n",
       "1               316.0             1  \n",
       "2              1525.0             0  \n",
       "3              5151.0             0  \n",
       "4              5240.0             0  "
      ]
     },
     "execution_count": 2,
     "metadata": {},
     "output_type": "execute_result"
    }
   ],
   "source": [
    "# read csv file into pandas dataframe \n",
    "\n",
    "df_users = pd.read_csv('relax_users_data.csv')\n",
    "\n",
    "df_users.head()"
   ]
  },
  {
   "cell_type": "code",
   "execution_count": 3,
   "metadata": {},
   "outputs": [
    {
     "data": {
      "text/plain": [
       "(8823, 11)"
      ]
     },
     "execution_count": 3,
     "metadata": {},
     "output_type": "execute_result"
    }
   ],
   "source": [
    "df_users.shape"
   ]
  },
  {
   "cell_type": "code",
   "execution_count": 4,
   "metadata": {},
   "outputs": [
    {
     "data": {
      "text/plain": [
       "user_id                         int64\n",
       "creation_time                  object\n",
       "name                           object\n",
       "email                          object\n",
       "creation_source                object\n",
       "last_session_creation_time    float64\n",
       "opted_in_to_mailing_list        int64\n",
       "enabled_for_marketing_drip      int64\n",
       "org_id                          int64\n",
       "invited_by_user_id            float64\n",
       "adopt_status                    int64\n",
       "dtype: object"
      ]
     },
     "execution_count": 4,
     "metadata": {},
     "output_type": "execute_result"
    }
   ],
   "source": [
    "df_users.dtypes"
   ]
  },
  {
   "cell_type": "code",
   "execution_count": 5,
   "metadata": {},
   "outputs": [
    {
     "data": {
      "text/plain": [
       "0    0.812309\n",
       "1    0.187691\n",
       "Name: adopt_status, dtype: float64"
      ]
     },
     "execution_count": 5,
     "metadata": {},
     "output_type": "execute_result"
    }
   ],
   "source": [
    "df_users.adopt_status.value_counts(normalize=True)"
   ]
  },
  {
   "cell_type": "code",
   "execution_count": 6,
   "metadata": {},
   "outputs": [
    {
     "data": {
      "text/plain": [
       "adopt_status\n",
       "0    1.375596e+09\n",
       "1    1.395221e+09\n",
       "Name: last_session_creation_time, dtype: float64"
      ]
     },
     "execution_count": 6,
     "metadata": {},
     "output_type": "execute_result"
    }
   ],
   "source": [
    "df_users.groupby(['adopt_status']).last_session_creation_time.mean()"
   ]
  },
  {
   "cell_type": "code",
   "execution_count": 7,
   "metadata": {},
   "outputs": [
    {
     "data": {
      "text/html": [
       "<div>\n",
       "<style scoped>\n",
       "    .dataframe tbody tr th:only-of-type {\n",
       "        vertical-align: middle;\n",
       "    }\n",
       "\n",
       "    .dataframe tbody tr th {\n",
       "        vertical-align: top;\n",
       "    }\n",
       "\n",
       "    .dataframe thead th {\n",
       "        text-align: right;\n",
       "    }\n",
       "</style>\n",
       "<table border=\"1\" class=\"dataframe\">\n",
       "  <thead>\n",
       "    <tr style=\"text-align: right;\">\n",
       "      <th></th>\n",
       "      <th>adopt_status</th>\n",
       "      <th>last_session_creation_time</th>\n",
       "    </tr>\n",
       "  </thead>\n",
       "  <tbody>\n",
       "    <tr>\n",
       "      <th>count</th>\n",
       "      <td>8823.000000</td>\n",
       "      <td>8.823000e+03</td>\n",
       "    </tr>\n",
       "    <tr>\n",
       "      <th>mean</th>\n",
       "      <td>0.187691</td>\n",
       "      <td>1.379279e+09</td>\n",
       "    </tr>\n",
       "    <tr>\n",
       "      <th>std</th>\n",
       "      <td>0.390488</td>\n",
       "      <td>1.953116e+07</td>\n",
       "    </tr>\n",
       "    <tr>\n",
       "      <th>min</th>\n",
       "      <td>0.000000</td>\n",
       "      <td>1.338452e+09</td>\n",
       "    </tr>\n",
       "    <tr>\n",
       "      <th>25%</th>\n",
       "      <td>0.000000</td>\n",
       "      <td>1.363195e+09</td>\n",
       "    </tr>\n",
       "    <tr>\n",
       "      <th>50%</th>\n",
       "      <td>0.000000</td>\n",
       "      <td>1.382888e+09</td>\n",
       "    </tr>\n",
       "    <tr>\n",
       "      <th>75%</th>\n",
       "      <td>0.000000</td>\n",
       "      <td>1.398443e+09</td>\n",
       "    </tr>\n",
       "    <tr>\n",
       "      <th>max</th>\n",
       "      <td>1.000000</td>\n",
       "      <td>1.402067e+09</td>\n",
       "    </tr>\n",
       "  </tbody>\n",
       "</table>\n",
       "</div>"
      ],
      "text/plain": [
       "       adopt_status  last_session_creation_time\n",
       "count   8823.000000                8.823000e+03\n",
       "mean       0.187691                1.379279e+09\n",
       "std        0.390488                1.953116e+07\n",
       "min        0.000000                1.338452e+09\n",
       "25%        0.000000                1.363195e+09\n",
       "50%        0.000000                1.382888e+09\n",
       "75%        0.000000                1.398443e+09\n",
       "max        1.000000                1.402067e+09"
      ]
     },
     "execution_count": 7,
     "metadata": {},
     "output_type": "execute_result"
    }
   ],
   "source": [
    "df_users[['adopt_status','last_session_creation_time']].describe()"
   ]
  },
  {
   "cell_type": "code",
   "execution_count": 8,
   "metadata": {},
   "outputs": [
    {
     "data": {
      "text/plain": [
       "count    1.656000e+03\n",
       "mean     1.395221e+09\n",
       "std      1.341866e+07\n",
       "min      1.341244e+09\n",
       "25%      1.399693e+09\n",
       "50%      1.401256e+09\n",
       "75%      1.401801e+09\n",
       "max      1.401926e+09\n",
       "Name: last_session_creation_time, dtype: float64"
      ]
     },
     "execution_count": 8,
     "metadata": {},
     "output_type": "execute_result"
    }
   ],
   "source": [
    "df_users[df_users['adopt_status'] == 1].last_session_creation_time.describe()"
   ]
  },
  {
   "cell_type": "code",
   "execution_count": 9,
   "metadata": {},
   "outputs": [
    {
     "data": {
      "text/plain": [
       "count    7.167000e+03\n",
       "mean     1.375596e+09\n",
       "std      1.886094e+07\n",
       "min      1.338452e+09\n",
       "25%      1.359985e+09\n",
       "50%      1.377737e+09\n",
       "75%      1.392963e+09\n",
       "max      1.402067e+09\n",
       "Name: last_session_creation_time, dtype: float64"
      ]
     },
     "execution_count": 9,
     "metadata": {},
     "output_type": "execute_result"
    }
   ],
   "source": [
    "df_users[df_users['adopt_status'] == 0].last_session_creation_time.describe()"
   ]
  },
  {
   "cell_type": "code",
   "execution_count": null,
   "metadata": {},
   "outputs": [],
   "source": []
  },
  {
   "cell_type": "markdown",
   "metadata": {},
   "source": [
    "## Convert Categorical Features"
   ]
  },
  {
   "cell_type": "code",
   "execution_count": 10,
   "metadata": {},
   "outputs": [
    {
     "data": {
      "text/plain": [
       "user_id                                int64\n",
       "creation_time                 datetime64[ns]\n",
       "name                                  object\n",
       "email                                 object\n",
       "creation_source                       object\n",
       "last_session_creation_time           float64\n",
       "opted_in_to_mailing_list               int64\n",
       "enabled_for_marketing_drip             int64\n",
       "org_id                                 int64\n",
       "invited_by_user_id                   float64\n",
       "adopt_status                           int64\n",
       "creation_source_label                  int64\n",
       "dtype: object"
      ]
     },
     "execution_count": 10,
     "metadata": {},
     "output_type": "execute_result"
    }
   ],
   "source": [
    "# https://towardsdatascience.com/all-about-categorical-variable-encoding-305f3361fd02\n",
    "\n",
    "\n",
    "cle = LabelEncoder()\n",
    "df_users['creation_source_label'] = cle.fit_transform(df_users['creation_source'])\n",
    "\n",
    "# convert string into date time object\n",
    "df_users.creation_time = df_users.creation_time.apply(pd.to_datetime)\n",
    "\n",
    "df_users.dtypes"
   ]
  },
  {
   "cell_type": "code",
   "execution_count": 11,
   "metadata": {},
   "outputs": [
    {
     "data": {
      "text/plain": [
       "Index([u'user_id', u'creation_time', u'name', u'email', u'creation_source',\n",
       "       u'last_session_creation_time', u'opted_in_to_mailing_list',\n",
       "       u'enabled_for_marketing_drip', u'org_id', u'invited_by_user_id',\n",
       "       u'adopt_status', u'creation_source_label'],\n",
       "      dtype='object')"
      ]
     },
     "execution_count": 11,
     "metadata": {},
     "output_type": "execute_result"
    }
   ],
   "source": [
    "df_users.columns"
   ]
  },
  {
   "cell_type": "code",
   "execution_count": 12,
   "metadata": {},
   "outputs": [
    {
     "data": {
      "text/html": [
       "<div>\n",
       "<style scoped>\n",
       "    .dataframe tbody tr th:only-of-type {\n",
       "        vertical-align: middle;\n",
       "    }\n",
       "\n",
       "    .dataframe tbody tr th {\n",
       "        vertical-align: top;\n",
       "    }\n",
       "\n",
       "    .dataframe thead th {\n",
       "        text-align: right;\n",
       "    }\n",
       "</style>\n",
       "<table border=\"1\" class=\"dataframe\">\n",
       "  <thead>\n",
       "    <tr style=\"text-align: right;\">\n",
       "      <th></th>\n",
       "      <th>user_id</th>\n",
       "      <th>last_session_creation_time</th>\n",
       "      <th>opted_in_to_mailing_list</th>\n",
       "      <th>enabled_for_marketing_drip</th>\n",
       "      <th>org_id</th>\n",
       "      <th>invited_by_user_id</th>\n",
       "      <th>adopt_status</th>\n",
       "      <th>creation_source_label</th>\n",
       "    </tr>\n",
       "  </thead>\n",
       "  <tbody>\n",
       "    <tr>\n",
       "      <th>count</th>\n",
       "      <td>8823.000000</td>\n",
       "      <td>8.823000e+03</td>\n",
       "      <td>8823.000000</td>\n",
       "      <td>8823.000000</td>\n",
       "      <td>8823.000000</td>\n",
       "      <td>4776.000000</td>\n",
       "      <td>8823.000000</td>\n",
       "      <td>8823.000000</td>\n",
       "    </tr>\n",
       "    <tr>\n",
       "      <th>mean</th>\n",
       "      <td>6019.821716</td>\n",
       "      <td>1.379279e+09</td>\n",
       "      <td>0.252295</td>\n",
       "      <td>0.151989</td>\n",
       "      <td>142.572254</td>\n",
       "      <td>5980.495394</td>\n",
       "      <td>0.187691</td>\n",
       "      <td>1.807775</td>\n",
       "    </tr>\n",
       "    <tr>\n",
       "      <th>std</th>\n",
       "      <td>3464.251001</td>\n",
       "      <td>1.953116e+07</td>\n",
       "      <td>0.434354</td>\n",
       "      <td>0.359031</td>\n",
       "      <td>124.176422</td>\n",
       "      <td>3394.211361</td>\n",
       "      <td>0.390488</td>\n",
       "      <td>1.373882</td>\n",
       "    </tr>\n",
       "    <tr>\n",
       "      <th>min</th>\n",
       "      <td>1.000000</td>\n",
       "      <td>1.338452e+09</td>\n",
       "      <td>0.000000</td>\n",
       "      <td>0.000000</td>\n",
       "      <td>0.000000</td>\n",
       "      <td>3.000000</td>\n",
       "      <td>0.000000</td>\n",
       "      <td>0.000000</td>\n",
       "    </tr>\n",
       "    <tr>\n",
       "      <th>25%</th>\n",
       "      <td>3017.500000</td>\n",
       "      <td>1.363195e+09</td>\n",
       "      <td>0.000000</td>\n",
       "      <td>0.000000</td>\n",
       "      <td>30.000000</td>\n",
       "      <td>3071.000000</td>\n",
       "      <td>0.000000</td>\n",
       "      <td>1.000000</td>\n",
       "    </tr>\n",
       "    <tr>\n",
       "      <th>50%</th>\n",
       "      <td>6034.000000</td>\n",
       "      <td>1.382888e+09</td>\n",
       "      <td>0.000000</td>\n",
       "      <td>0.000000</td>\n",
       "      <td>109.000000</td>\n",
       "      <td>5947.000000</td>\n",
       "      <td>0.000000</td>\n",
       "      <td>1.000000</td>\n",
       "    </tr>\n",
       "    <tr>\n",
       "      <th>75%</th>\n",
       "      <td>9029.500000</td>\n",
       "      <td>1.398443e+09</td>\n",
       "      <td>1.000000</td>\n",
       "      <td>0.000000</td>\n",
       "      <td>239.000000</td>\n",
       "      <td>8857.250000</td>\n",
       "      <td>0.000000</td>\n",
       "      <td>3.000000</td>\n",
       "    </tr>\n",
       "    <tr>\n",
       "      <th>max</th>\n",
       "      <td>12000.000000</td>\n",
       "      <td>1.402067e+09</td>\n",
       "      <td>1.000000</td>\n",
       "      <td>1.000000</td>\n",
       "      <td>416.000000</td>\n",
       "      <td>11999.000000</td>\n",
       "      <td>1.000000</td>\n",
       "      <td>4.000000</td>\n",
       "    </tr>\n",
       "  </tbody>\n",
       "</table>\n",
       "</div>"
      ],
      "text/plain": [
       "            user_id  last_session_creation_time  opted_in_to_mailing_list  \\\n",
       "count   8823.000000                8.823000e+03               8823.000000   \n",
       "mean    6019.821716                1.379279e+09                  0.252295   \n",
       "std     3464.251001                1.953116e+07                  0.434354   \n",
       "min        1.000000                1.338452e+09                  0.000000   \n",
       "25%     3017.500000                1.363195e+09                  0.000000   \n",
       "50%     6034.000000                1.382888e+09                  0.000000   \n",
       "75%     9029.500000                1.398443e+09                  1.000000   \n",
       "max    12000.000000                1.402067e+09                  1.000000   \n",
       "\n",
       "       enabled_for_marketing_drip       org_id  invited_by_user_id  \\\n",
       "count                 8823.000000  8823.000000         4776.000000   \n",
       "mean                     0.151989   142.572254         5980.495394   \n",
       "std                      0.359031   124.176422         3394.211361   \n",
       "min                      0.000000     0.000000            3.000000   \n",
       "25%                      0.000000    30.000000         3071.000000   \n",
       "50%                      0.000000   109.000000         5947.000000   \n",
       "75%                      0.000000   239.000000         8857.250000   \n",
       "max                      1.000000   416.000000        11999.000000   \n",
       "\n",
       "       adopt_status  creation_source_label  \n",
       "count   8823.000000            8823.000000  \n",
       "mean       0.187691               1.807775  \n",
       "std        0.390488               1.373882  \n",
       "min        0.000000               0.000000  \n",
       "25%        0.000000               1.000000  \n",
       "50%        0.000000               1.000000  \n",
       "75%        0.000000               3.000000  \n",
       "max        1.000000               4.000000  "
      ]
     },
     "execution_count": 12,
     "metadata": {},
     "output_type": "execute_result"
    }
   ],
   "source": [
    "df_users.describe()"
   ]
  },
  {
   "cell_type": "code",
   "execution_count": 13,
   "metadata": {},
   "outputs": [
    {
     "data": {
      "text/plain": [
       "user_id                          0\n",
       "creation_time                    0\n",
       "name                             0\n",
       "email                            0\n",
       "creation_source                  0\n",
       "last_session_creation_time       0\n",
       "opted_in_to_mailing_list         0\n",
       "enabled_for_marketing_drip       0\n",
       "org_id                           0\n",
       "invited_by_user_id            4047\n",
       "adopt_status                     0\n",
       "creation_source_label            0\n",
       "dtype: int64"
      ]
     },
     "execution_count": 13,
     "metadata": {},
     "output_type": "execute_result"
    }
   ],
   "source": [
    "df_users.isna().sum()"
   ]
  },
  {
   "cell_type": "code",
   "execution_count": 14,
   "metadata": {},
   "outputs": [],
   "source": [
    "predictors = ['last_session_creation_time','opted_in_to_mailing_list',\n",
    "              'enabled_for_marketing_drip', 'org_id','creation_source_label'] # 'invited_by_user_id',]\n",
    "\n",
    "X = df_users[predictors]\n",
    "y  = df_users.adopt_status"
   ]
  },
  {
   "cell_type": "code",
   "execution_count": 15,
   "metadata": {},
   "outputs": [
    {
     "name": "stdout",
     "output_type": "stream",
     "text": [
      "(7058, 5)\n",
      "\n",
      "(1765, 5)\n"
     ]
    }
   ],
   "source": [
    "X_train, X_test, y_train, y_test = train_test_split(X,y, test_size=0.2)\n",
    "\n",
    "print(X_train.shape)\n",
    "print\n",
    "print(X_test.shape)"
   ]
  },
  {
   "cell_type": "code",
   "execution_count": 16,
   "metadata": {},
   "outputs": [
    {
     "data": {
      "text/plain": [
       "0    1425\n",
       "1     340\n",
       "Name: adopt_status, dtype: int64"
      ]
     },
     "execution_count": 16,
     "metadata": {},
     "output_type": "execute_result"
    }
   ],
   "source": [
    "y_test.value_counts()"
   ]
  },
  {
   "cell_type": "markdown",
   "metadata": {},
   "source": [
    "## Logistic Regression Baseline Model"
   ]
  },
  {
   "cell_type": "code",
   "execution_count": 17,
   "metadata": {},
   "outputs": [
    {
     "name": "stdout",
     "output_type": "stream",
     "text": [
      "0.8073654390934845\n"
     ]
    },
    {
     "name": "stderr",
     "output_type": "stream",
     "text": [
      "/Users/scottlew/anaconda2/lib/python2.7/site-packages/sklearn/linear_model/logistic.py:433: FutureWarning: Default solver will be changed to 'lbfgs' in 0.22. Specify a solver to silence this warning.\n",
      "  FutureWarning)\n"
     ]
    }
   ],
   "source": [
    "# Instantiate Logistic Regression Model\n",
    "lr = LogisticRegression(random_state = 3)\n",
    "# build the model using training data\n",
    "lr.fit(X_train, y_train)\n",
    "score = lr.score(X_test,y_test)\n",
    "print(score)"
   ]
  },
  {
   "cell_type": "code",
   "execution_count": 18,
   "metadata": {},
   "outputs": [
    {
     "name": "stdout",
     "output_type": "stream",
     "text": [
      "\n",
      "[[1425    0]\n",
      " [ 340    0]]\n"
     ]
    }
   ],
   "source": [
    "# Generate Confusion Matrix for Decision Tree Classifier\n",
    "actual = y_test\n",
    "predictions = lr.predict(X_test)\n",
    "print\n",
    "cm_lr = confusion_matrix(actual,predictions)\n",
    "print(cm_lr)"
   ]
  },
  {
   "cell_type": "markdown",
   "metadata": {},
   "source": [
    "## More Classification Models"
   ]
  },
  {
   "cell_type": "code",
   "execution_count": 19,
   "metadata": {},
   "outputs": [
    {
     "name": "stdout",
     "output_type": "stream",
     "text": [
      "MNB classifier Score: 0.57\n",
      "\n"
     ]
    }
   ],
   "source": [
    "# Multinomail Naive Bayes\n",
    "mnb = MultinomialNB()\n",
    "mnb.fit(X_train, y_train)\n",
    "# evaluate accuracy of our model on test data\n",
    "print(\"MNB classifier Score: {:.2f}\".format(mnb.score(X_test, y_test)))\n",
    "print"
   ]
  },
  {
   "cell_type": "code",
   "execution_count": 20,
   "metadata": {},
   "outputs": [
    {
     "name": "stdout",
     "output_type": "stream",
     "text": [
      "KNN classifier Score: 0.88\n",
      "\n"
     ]
    }
   ],
   "source": [
    "# knn Classifier\n",
    "#knn = KNeighborsClassifier(algorithm='auto', leaf_size=30, metric='minkowski',\n",
    "           #metric_params=None, n_jobs=1, n_neighbors=5, p=2,\n",
    "           #weights='uniform')\n",
    "knn = KNeighborsClassifier( n_neighbors=5,weights='uniform')\n",
    "\n",
    "knn.fit(X_train, y_train)\n",
    "# evaluate accuracy of our model on test data\n",
    "print(\"KNN classifier Score: {:.2f}\".format(knn.score(X_test, y_test)))\n",
    "print"
   ]
  },
  {
   "cell_type": "code",
   "execution_count": 21,
   "metadata": {},
   "outputs": [
    {
     "name": "stdout",
     "output_type": "stream",
     "text": [
      "\n",
      "[[1350   75]\n",
      " [ 139  201]]\n"
     ]
    }
   ],
   "source": [
    "# Generate Confusion Matrix for Decision Tree Classifier\n",
    "actual = y_test\n",
    "predictions_knn = knn.predict(X_test)\n",
    "print\n",
    "cm_knn = confusion_matrix(actual,predictions_knn)\n",
    "print(cm_knn)"
   ]
  },
  {
   "cell_type": "code",
   "execution_count": 22,
   "metadata": {},
   "outputs": [
    {
     "name": "stdout",
     "output_type": "stream",
     "text": [
      "\n",
      "('Number of Neighbors: ', 3)\n",
      "[[1332   93]\n",
      " [ 142  198]]\n",
      "\n",
      "\n",
      "('Number of Neighbors: ', 5)\n",
      "[[1350   75]\n",
      " [ 139  201]]\n",
      "\n",
      "\n",
      "('Number of Neighbors: ', 7)\n",
      "[[1343   82]\n",
      " [ 136  204]]\n",
      "\n",
      "\n",
      "('Number of Neighbors: ', 9)\n",
      "[[1348   77]\n",
      " [ 135  205]]\n",
      "\n",
      "\n",
      "('Number of Neighbors: ', 11)\n",
      "[[1351   74]\n",
      " [ 138  202]]\n",
      "\n",
      "\n",
      "('Number of Neighbors: ', 13)\n",
      "[[1355   70]\n",
      " [ 135  205]]\n",
      "\n",
      "\n",
      "('Number of Neighbors: ', 15)\n",
      "[[1354   71]\n",
      " [ 137  203]]\n",
      "\n",
      "\n",
      "('Number of Neighbors: ', 17)\n",
      "[[1352   73]\n",
      " [ 136  204]]\n",
      "\n",
      "Done!\n"
     ]
    }
   ],
   "source": [
    "num_neighbors = [3,5,7,9,11,13,15,17]\n",
    "\n",
    "for n_bors  in num_neighbors:\n",
    "    knn = KNeighborsClassifier( n_neighbors=n_bors,weights='uniform')\n",
    "    #knn = KNeighborsClassifier(algorithm='auto', leaf_size=30, metric='minkowski',\n",
    "           #metric_params=None, n_jobs=1, n_neighbors= n_bors, p=2,\n",
    "           #weights='uniform')\n",
    "    knn.fit(X_train, y_train)\n",
    "    actual = y_test\n",
    "    predictions_knn = knn.predict(X_test)\n",
    "    print\n",
    "    print('Number of Neighbors: ',n_bors)\n",
    "    cm_knn = confusion_matrix(actual,predictions_knn)\n",
    "    print(cm_knn)\n",
    "    print\n",
    "    \n",
    "print('Done!')\n"
   ]
  },
  {
   "cell_type": "code",
   "execution_count": 23,
   "metadata": {},
   "outputs": [
    {
     "name": "stdout",
     "output_type": "stream",
     "text": [
      "Decision Tree classifier Score: 0.89\n",
      "\n"
     ]
    }
   ],
   "source": [
    "# Decision Tree Classifier\n",
    "dtc = DecisionTreeClassifier(max_depth=5)\n",
    "dtc.fit(X_train, y_train)\n",
    "# evaluate accuracy of our model on test data\n",
    "print(\"Decision Tree classifier Score: {:.2f}\".format(dtc.score(X_test, y_test)))\n",
    "print"
   ]
  },
  {
   "cell_type": "code",
   "execution_count": 24,
   "metadata": {},
   "outputs": [
    {
     "name": "stdout",
     "output_type": "stream",
     "text": [
      "\n",
      "[[1346   79]\n",
      " [ 116  224]]\n"
     ]
    }
   ],
   "source": [
    "# Generate Confusion Matrix for Decision Tree Classifier\n",
    "actual = y_test\n",
    "predictions = dtc.predict(X_test)\n",
    "print\n",
    "cm_dtc = confusion_matrix(actual,predictions)\n",
    "print(cm_dtc)"
   ]
  },
  {
   "cell_type": "code",
   "execution_count": 25,
   "metadata": {},
   "outputs": [
    {
     "name": "stdout",
     "output_type": "stream",
     "text": [
      "              precision    recall  f1-score   support\n",
      "\n",
      "           0       0.94      0.92      0.93      1462\n",
      "           1       0.66      0.74      0.70       303\n",
      "\n",
      "   micro avg       0.89      0.89      0.89      1765\n",
      "   macro avg       0.80      0.83      0.81      1765\n",
      "weighted avg       0.90      0.89      0.89      1765\n",
      "\n"
     ]
    }
   ],
   "source": [
    "from sklearn.metrics import classification_report\n",
    "\n",
    "dtc_prediction = dtc.predict(X_test)\n",
    "print(classification_report(dtc_prediction, y_test))"
   ]
  },
  {
   "cell_type": "code",
   "execution_count": 26,
   "metadata": {},
   "outputs": [
    {
     "data": {
      "text/plain": [
       "Text(0,0.5,'Features')"
      ]
     },
     "execution_count": 26,
     "metadata": {},
     "output_type": "execute_result"
    },
    {
     "data": {
      "image/png": "[encoded data removed]",
      "text/plain": [
       "<Figure size 648x432 with 1 Axes>"
      ]
     },
     "metadata": {
      "needs_background": "light"
     },
     "output_type": "display_data"
    }
   ],
   "source": [
    "n_features = X.shape[1]\n",
    "\n",
    "plt.figure(figsize=(9,6))\n",
    "plt.barh(range(n_features), dtc.feature_importances_, align='center')\n",
    "plt.yticks(np.arange(n_features),X.columns,fontsize=14,fontweight='bold')\n",
    "\n",
    "plt.xlabel('Feature Importance',fontsize=16,fontweight='bold')\n",
    "plt.ylabel('Features',fontsize=11,fontweight='bold')\n",
    "\n",
    "#plt.savefig('XGBoost_Op_Feature_Importances.png')"
   ]
  },
  {
   "cell_type": "code",
   "execution_count": 27,
   "metadata": {},
   "outputs": [
    {
     "name": "stdout",
     "output_type": "stream",
     "text": [
      "Random Forest classifier Score: 0.88\n",
      "\n"
     ]
    },
    {
     "name": "stderr",
     "output_type": "stream",
     "text": [
      "/Users/scottlew/anaconda2/lib/python2.7/site-packages/sklearn/ensemble/forest.py:246: FutureWarning: The default value of n_estimators will change from 10 in version 0.20 to 100 in 0.22.\n",
      "  \"10 in version 0.20 to 100 in 0.22.\", FutureWarning)\n"
     ]
    }
   ],
   "source": [
    "# Random Forest Classifier\n",
    "#rf = RandomForestClassifier(max_depth=5, n_estimators=100)\n",
    "rf = RandomForestClassifier()\n",
    "rf.fit(X_train,y_train)\n",
    "# evaluate accuracy of our model on test data\n",
    "print(\"Random Forest classifier Score: {:.2f}\".format(rf.score(X_test, y_test)))\n",
    "print"
   ]
  },
  {
   "cell_type": "code",
   "execution_count": 28,
   "metadata": {},
   "outputs": [
    {
     "name": "stdout",
     "output_type": "stream",
     "text": [
      "\n",
      "[[1357   68]\n",
      " [ 141  199]]\n"
     ]
    }
   ],
   "source": [
    "# Generate Confusion Matrix for Random Forest Classifier\n",
    "actual = y_test\n",
    "predictions = rf.predict(X_test)\n",
    "print\n",
    "cm_rf = confusion_matrix(actual,predictions)\n",
    "print(cm_rf)"
   ]
  },
  {
   "cell_type": "code",
   "execution_count": 29,
   "metadata": {},
   "outputs": [
    {
     "name": "stdout",
     "output_type": "stream",
     "text": [
      "XGBoost Classifier Score: 0.88\n",
      "\n"
     ]
    }
   ],
   "source": [
    "# XGBoost Classifier\n",
    "\n",
    "xgbc = XGBClassifier()\n",
    "xgbc.fit(X_train, y_train)\n",
    "print(\"XGBoost Classifier Score: {:.2f}\".format(xgbc.score(X_test, y_test)))\n",
    "print"
   ]
  },
  {
   "cell_type": "code",
   "execution_count": 30,
   "metadata": {},
   "outputs": [
    {
     "name": "stdout",
     "output_type": "stream",
     "text": [
      "Confusion Matrix for XGBoost Model\n",
      "\n",
      "[[1349   76]\n",
      " [ 128  212]]\n"
     ]
    }
   ],
   "source": [
    "# Generate Confusion Matrix \n",
    "actual = y_test\n",
    "predictions = xgbc.predict(X_test)\n",
    "print('Confusion Matrix for XGBoost Model')\n",
    "print\n",
    "cm_xgbc = confusion_matrix(actual,predictions)\n",
    "print(cm_xgbc)"
   ]
  },
  {
   "cell_type": "code",
   "execution_count": 31,
   "metadata": {},
   "outputs": [
    {
     "name": "stdout",
     "output_type": "stream",
     "text": [
      "              precision    recall  f1-score   support\n",
      "\n",
      "           0       0.95      0.91      0.93      1477\n",
      "           1       0.62      0.74      0.68       288\n",
      "\n",
      "   micro avg       0.88      0.88      0.88      1765\n",
      "   macro avg       0.79      0.82      0.80      1765\n",
      "weighted avg       0.89      0.88      0.89      1765\n",
      "\n"
     ]
    }
   ],
   "source": [
    "xgbc_prediction = xgbc.predict(X_test)\n",
    "print(classification_report(xgbc_prediction, y_test))"
   ]
  },
  {
   "cell_type": "code",
   "execution_count": 32,
   "metadata": {},
   "outputs": [
    {
     "data": {
      "text/plain": [
       "Text(0,0.5,'Features')"
      ]
     },
     "execution_count": 32,
     "metadata": {},
     "output_type": "execute_result"
    },
    {
     "data": {
      "image/png": "[encoded data removed]",
      "text/plain": [
       "<Figure size 648x432 with 1 Axes>"
      ]
     },
     "metadata": {
      "needs_background": "light"
     },
     "output_type": "display_data"
    }
   ],
   "source": [
    "n_features = X.shape[1]\n",
    "\n",
    "plt.figure(figsize=(9,6))\n",
    "plt.barh(range(n_features), xgbc.feature_importances_, align='center')\n",
    "plt.yticks(np.arange(n_features),X.columns)\n",
    "plt.yticks(np.arange(n_features),X.columns,fontsize=14,fontweight='bold')\n",
    "\n",
    "plt.xlabel('Feature Importance',fontsize=16,fontweight='bold')\n",
    "plt.ylabel('Features',fontsize=11,fontweight='bold')\n",
    "#plt.savefig('XGBoost_Op_Feature_Importances.png')"
   ]
  },
  {
   "cell_type": "markdown",
   "metadata": {},
   "source": [
    "## Randomized Grid Search CV"
   ]
  },
  {
   "cell_type": "code",
   "execution_count": 33,
   "metadata": {},
   "outputs": [],
   "source": [
    "params={\n",
    " \"learning_rate\"    : [0.05, 0.10, 0.15, 0.20, 0.25, 0.30 ] ,\n",
    " \"max_depth\"        : [ 3, 4, 5, 6, 8, 10, 12, 15],\n",
    " \"min_child_weight\" : [ 1, 3, 5, 7 ],\n",
    " \"gamma\"            : [ 0.0, 0.1, 0.2 , 0.3, 0.4 ],\n",
    " \"colsample_bytree\" : [ 0.3, 0.4, 0.5 , 0.7 ]\n",
    "    \n",
    "}\n",
    "\n",
    "classifier= XGBClassifier()\n",
    "\n",
    "random_search=RandomizedSearchCV(classifier,param_distributions=params,n_iter=5,scoring='roc_auc',n_jobs=-1,cv=3,verbose=3)"
   ]
  },
  {
   "cell_type": "code",
   "execution_count": 34,
   "metadata": {},
   "outputs": [
    {
     "name": "stdout",
     "output_type": "stream",
     "text": [
      "Fitting 3 folds for each of 5 candidates, totalling 15 fits\n"
     ]
    },
    {
     "name": "stderr",
     "output_type": "stream",
     "text": [
      "[Parallel(n_jobs=-1)]: Using backend LokyBackend with 4 concurrent workers.\n",
      "[Parallel(n_jobs=-1)]: Done  15 out of  15 | elapsed:   12.3s finished\n"
     ]
    },
    {
     "data": {
      "text/plain": [
       "RandomizedSearchCV(cv=3, error_score='raise-deprecating',\n",
       "          estimator=XGBClassifier(base_score=0.5, booster='gbtree', colsample_bylevel=1,\n",
       "       colsample_bytree=1, gamma=0, learning_rate=0.1, max_delta_step=0,\n",
       "       max_depth=3, min_child_weight=1, missing=None, n_estimators=100,\n",
       "       n_jobs=1, nthread=None, objective='binary:logistic', random_state=0,\n",
       "       reg_alpha=0, reg_lambda=1, scale_pos_weight=1, seed=None,\n",
       "       silent=True, subsample=1),\n",
       "          fit_params=None, iid='warn', n_iter=5, n_jobs=-1,\n",
       "          param_distributions={'gamma': [0.0, 0.1, 0.2, 0.3, 0.4], 'learning_rate': [0.05, 0.1, 0.15, 0.2, 0.25, 0.3], 'colsample_bytree': [0.3, 0.4, 0.5, 0.7], 'max_depth': [3, 4, 5, 6, 8, 10, 12, 15], 'min_child_weight': [1, 3, 5, 7]},\n",
       "          pre_dispatch='2*n_jobs', random_state=None, refit=True,\n",
       "          return_train_score='warn', scoring='roc_auc', verbose=3)"
      ]
     },
     "execution_count": 34,
     "metadata": {},
     "output_type": "execute_result"
    }
   ],
   "source": [
    "random_search.fit(X,y)"
   ]
  },
  {
   "cell_type": "code",
   "execution_count": 35,
   "metadata": {},
   "outputs": [
    {
     "data": {
      "text/plain": [
       "XGBClassifier(base_score=0.5, booster='gbtree', colsample_bylevel=1,\n",
       "       colsample_bytree=0.4, gamma=0.1, learning_rate=0.1,\n",
       "       max_delta_step=0, max_depth=5, min_child_weight=3, missing=None,\n",
       "       n_estimators=100, n_jobs=1, nthread=None,\n",
       "       objective='binary:logistic', random_state=0, reg_alpha=0,\n",
       "       reg_lambda=1, scale_pos_weight=1, seed=None, silent=True,\n",
       "       subsample=1)"
      ]
     },
     "execution_count": 35,
     "metadata": {},
     "output_type": "execute_result"
    }
   ],
   "source": [
    "random_search.best_estimator_"
   ]
  },
  {
   "cell_type": "code",
   "execution_count": 36,
   "metadata": {},
   "outputs": [
    {
     "data": {
      "text/plain": [
       "{'colsample_bytree': 0.4,\n",
       " 'gamma': 0.1,\n",
       " 'learning_rate': 0.1,\n",
       " 'max_depth': 5,\n",
       " 'min_child_weight': 3}"
      ]
     },
     "execution_count": 36,
     "metadata": {},
     "output_type": "execute_result"
    }
   ],
   "source": [
    "random_search.best_params_"
   ]
  },
  {
   "cell_type": "code",
   "execution_count": 37,
   "metadata": {},
   "outputs": [
    {
     "name": "stdout",
     "output_type": "stream",
     "text": [
      "XGBoost Classifier Score: 0.89\n",
      "\n"
     ]
    }
   ],
   "source": [
    "# XGBoost Classifier\n",
    "\n",
    "xgbc_OP = XGBClassifier(colsample_bytree=0.3, gamma=0.4, learning_rate=0.15,\n",
    "       max_delta_step=0, max_depth=3, min_child_weight=3)\n",
    "\n",
    "xgbc_OP.fit(X_train, y_train)\n",
    "\n",
    "print(\"XGBoost Classifier Score: {:.2f}\".format(xgbc_OP.score(X_test, y_test)))\n",
    "print"
   ]
  },
  {
   "cell_type": "code",
   "execution_count": 38,
   "metadata": {},
   "outputs": [
    {
     "data": {
      "text/plain": [
       "0.7902115583075335"
      ]
     },
     "execution_count": 38,
     "metadata": {},
     "output_type": "execute_result"
    }
   ],
   "source": [
    "predictions = xgbc_OP.predict(X_test)\n",
    "roc_auc_score(y_test, predictions)"
   ]
  },
  {
   "cell_type": "code",
   "execution_count": 39,
   "metadata": {},
   "outputs": [
    {
     "name": "stdout",
     "output_type": "stream",
     "text": [
      "Confusion Matrix for XGBoost Model\n",
      "\n",
      "[[1351   74]\n",
      " [ 125  215]]\n"
     ]
    }
   ],
   "source": [
    "# Generate Confusion Matrix \n",
    "actual = y_test\n",
    "predictions = xgbc_OP.predict(X_test)\n",
    "print('Confusion Matrix for XGBoost Model')\n",
    "print\n",
    "cm_xgbc_op = confusion_matrix(actual,predictions)\n",
    "print(cm_xgbc_op)"
   ]
  },
  {
   "cell_type": "code",
   "execution_count": 40,
   "metadata": {},
   "outputs": [
    {
     "data": {
      "image/png": "[encoded data removed]",
      "text/plain": [
       "<Figure size 792x432 with 1 Axes>"
      ]
     },
     "metadata": {
      "needs_background": "light"
     },
     "output_type": "display_data"
    }
   ],
   "source": [
    "n_features = X.shape[1]\n",
    "\n",
    "plt.figure(figsize=(11,6))\n",
    "plt.barh(range(n_features), xgbc_OP.feature_importances_, align='center')\n",
    "plt.yticks(np.arange(n_features),X.columns)\n",
    "plt.yticks(np.arange(n_features),X.columns,fontsize=14,fontweight='bold')\n",
    "\n",
    "plt.xlabel('Feature Importance',fontsize=15,fontweight='bold')\n",
    "plt.ylabel('Features',fontsize=11,fontweight='bold')\n",
    "# adjust line width of figure/graph frame,spines\n",
    "plt.gca().spines['top'].set_linewidth(3.5)\n",
    "plt.gca().spines['right'].set_linewidth(3.5)\n",
    "plt.gca().spines['bottom'].set_linewidth(3.5)\n",
    "plt.gca().spines['left'].set_linewidth(3.5)\n",
    "plt.tight_layout()\n",
    "#plt.savefig('Relax_XGBoost_Optimized_Feature_Importances.png')"
   ]
  },
  {
   "cell_type": "code",
   "execution_count": 41,
   "metadata": {},
   "outputs": [
    {
     "data": {
      "image/png": "[encoded data removed]",
      "text/plain": [
       "<Figure size 432x432 with 1 Axes>"
      ]
     },
     "metadata": {
      "needs_background": "light"
     },
     "output_type": "display_data"
    }
   ],
   "source": [
    "# Confusion matrix for XGBoost Classifier Model\n",
    "plt.figure(figsize=(6,6))\n",
    "annot_kws={'fontsize':15,'fontstyle':'italic'}\n",
    "sns.heatmap(cm_xgbc_op, annot=True, fmt=\".0f\", linewidths=.5, square = True, cmap = 'Blues_r',cbar= None,annot_kws= annot_kws);\n",
    "plt.ylabel('Actual label',fontsize=16,fontweight='bold');\n",
    "plt.xlabel('Predicted label',fontsize=16,fontweight='bold');\n",
    "plt.title('XGBoost Classifier Model',fontsize=16,fontweight='bold');\n",
    "#plt.savefig('Relax_XGBoost_Optimized_Confusion_Matrix.png')"
   ]
  },
  {
   "cell_type": "code",
   "execution_count": 42,
   "metadata": {},
   "outputs": [
    {
     "name": "stdout",
     "output_type": "stream",
     "text": [
      "              precision    recall  f1-score   support\n",
      "\n",
      "           0       0.95      0.92      0.93      1476\n",
      "           1       0.63      0.74      0.68       289\n",
      "\n",
      "   micro avg       0.89      0.89      0.89      1765\n",
      "   macro avg       0.79      0.83      0.81      1765\n",
      "weighted avg       0.90      0.89      0.89      1765\n",
      "\n"
     ]
    }
   ],
   "source": [
    "xgbc_prediction_opt = xgbc_OP.predict(X_test)\n",
    "print(classification_report(xgbc_prediction_opt, y_test))"
   ]
  },
  {
   "cell_type": "code",
   "execution_count": null,
   "metadata": {},
   "outputs": [],
   "source": []
  }
 ],
 "metadata": {
  "kernelspec": {
   "display_name": "Python 2",
   "language": "python",
   "name": "python2"
  },
  "language_info": {
   "codemirror_mode": {
    "name": "ipython",
    "version": 2
   },
   "file_extension": ".py",
   "mimetype": "text/x-python",
   "name": "python",
   "nbconvert_exporter": "python",
   "pygments_lexer": "ipython2",
   "version": "2.7.16"
  }
 },
 "nbformat": 4,
 "nbformat_minor": 2
}
